{
 "cells": [
  {
   "cell_type": "code",
   "execution_count": 1,
   "metadata": {},
   "outputs": [],
   "source": [
    "import numpy as np\n",
    "import tensorflow as tf\n",
    "import cv2 as cv\n",
    "import matplotlib.pyplot as plt\n",
    "import os"
   ]
  },
  {
   "cell_type": "code",
   "execution_count": 2,
   "metadata": {},
   "outputs": [],
   "source": [
    "def OD_testing(model_path, testing_image_path, output_dir_path):\n",
    "    \"\"\"\n",
    "    model_path: enter the model path ie. F:/model/tensor.pb\n",
    "    \n",
    "    testing_image_path: enter the directory path that contain only images \n",
    "    \n",
    "    output_dir_path: write the tested images \n",
    "    \"\"\"\n",
    "    \n",
    "    \n",
    "    # Read the graph.\n",
    "    print(\"model dir path >>>\",model_path)\n",
    "    with tf.gfile.FastGFile(model_path, 'rb') as f:\n",
    "        graph_def = tf.GraphDef()\n",
    "        graph_def.ParseFromString(f.read())\n",
    "        \n",
    "    with tf.Session() as sess:\n",
    "      # Restore session\n",
    "        sess.graph.as_default()\n",
    "        tf.import_graph_def(graph_def, name='')\n",
    "\n",
    "\n",
    "        # Read and preprocess an image.\n",
    "        print(\"testing image dir path >>>\",testing_image_path)\n",
    "        print(\"output image dir path >>>\",output_dir_path)\n",
    "        for i in os.listdir(testing_image_path):\n",
    "            image_path = testing_image_path+\"/\"+i\n",
    "\n",
    "            img = cv.imread(image_path)\n",
    "            rows = img.shape[0]\n",
    "            cols = img.shape[1]\n",
    "            inp = cv.resize(img, (500, 500))\n",
    "            inp = inp[:, :, [2, 1, 0]] # BGR2RGB\n",
    "\n",
    "            out = sess.run([sess.graph.get_tensor_by_name('num_detections:0'),\n",
    "            sess.graph.get_tensor_by_name('detection_scores:0'),\n",
    "            sess.graph.get_tensor_by_name('detection_boxes:0'),\n",
    "            sess.graph.get_tensor_by_name('detection_classes:0')],\n",
    "            feed_dict={'image_tensor:0': inp.reshape(1, inp.shape[0], inp.shape[1], 3)})\n",
    "\n",
    "            # Visualize detected bounding boxes.\n",
    "            num_detections = int(out[0][0])\n",
    "            for j in range(num_detections):\n",
    "                classId = int(out[3][0][j])\n",
    "                score = float(out[1][0][j])\n",
    "                bbox = [float(v) for v in out[2][0][j]]\n",
    "                if score > 0.4:\n",
    "                    x = bbox[1] * cols\n",
    "                    y = bbox[0] * rows\n",
    "                    right = bbox[3] * cols\n",
    "                    bottom = bbox[2] * rows\n",
    "                    cv.rectangle(img, (int(x), int(y)), (int(right), int(bottom)), (0, 0, 255), thickness=2)\n",
    "\n",
    "            cv.imwrite(output_dir_path+\"/\"+i,img)\n",
    "    #         cv.imshow('TensorFlow MobileNet-SSD', img)\n",
    "            cv.waitKey()\n",
    "            cv.destroyAllWindows()"
   ]
  },
  {
   "cell_type": "code",
   "execution_count": 3,
   "metadata": {},
   "outputs": [],
   "source": [
    "model = r\"D:/Projects/Dairy_machine_ocr/frozen_inference_graph (1) (1).pb\" # model file created form object training\n",
    "path = r\"D:\\Projects\\Dairy_machine_ocr\\dataset-v1\\test\" #Test data path\n",
    "output = r\"D:\\Projects\\Dairy_machine_ocr\\dataset-v1\\test_output\" # data output path"
   ]
  },
  {
   "cell_type": "code",
   "execution_count": 4,
   "metadata": {},
   "outputs": [
    {
     "name": "stdout",
     "output_type": "stream",
     "text": [
      "model dir path >>> D:/Projects/Dairy_machine_ocr/frozen_inference_graph (1) (1).pb\n",
      "WARNING:tensorflow:From <ipython-input-2-99d7a2a9e25e>:13: FastGFile.__init__ (from tensorflow.python.platform.gfile) is deprecated and will be removed in a future version.\n",
      "Instructions for updating:\n",
      "Use tf.gfile.GFile.\n",
      "testing image dir path >>> D:\\Projects\\Dairy_machine_ocr\\dataset-v1\\test\n",
      "output image dir path >>> D:\\Projects\\Dairy_machine_ocr\\dataset-v1\\test_output\n"
     ]
    }
   ],
   "source": [
    "OD_testing(model, path, output)"
   ]
  },
  {
   "cell_type": "code",
   "execution_count": null,
   "metadata": {},
   "outputs": [],
   "source": []
  }
 ],
 "metadata": {
  "kernelspec": {
   "display_name": "Python 3",
   "language": "python",
   "name": "python3"
  },
  "language_info": {
   "codemirror_mode": {
    "name": "ipython",
    "version": 3
   },
   "file_extension": ".py",
   "mimetype": "text/x-python",
   "name": "python",
   "nbconvert_exporter": "python",
   "pygments_lexer": "ipython3",
   "version": "3.7.4"
  }
 },
 "nbformat": 4,
 "nbformat_minor": 2
}
